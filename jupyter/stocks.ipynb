{
 "cells": [
  {
   "cell_type": "markdown",
   "id": "6ff13d00",
   "metadata": {},
   "source": [
    "## Stock analysis\n",
    "\n",
    "The dataset contains daily stock prices of two companies:\n",
    "- Apple Inc. (AAPL) from December 12, 1980 to January 30, 2024,\n",
    "- Alphabet Inc. (GOOG) from August 19, 2004 to January 30, 2024.\n",
    "\n",
    "The stock prices are presented in the Open, High, Low, Close, and Adjusted Close columns, along with the corresponding volumes of shares traded.\n",
    "\n",
    "The goal of this exercice is to perform various data analysis tasks using Python and Pandas, a popular Python library for data manipulation and analysis."
   ]
  },
  {
   "cell_type": "code",
   "execution_count": null,
   "id": "096582b5",
   "metadata": {},
   "outputs": [],
   "source": [
    "import pandas as pd"
   ]
  },
  {
   "cell_type": "markdown",
   "id": "9373d5d2",
   "metadata": {},
   "source": [
    "#### 1. Load Apple and Google stock data from CSV files\n"
   ]
  },
  {
   "cell_type": "code",
   "execution_count": null,
   "id": "621c6bcb",
   "metadata": {},
   "outputs": [],
   "source": [
    "# Read apple.csv and google.csv files\n",
    "apple_df =\n",
    "google_df ="
   ]
  },
  {
   "cell_type": "markdown",
   "id": "9897a04d",
   "metadata": {},
   "source": [
    "<details>\n",
    "  <summary>Hint 1</summary>\n",
    "\n",
    "  Use the pandas `read_csv()` function to read the CSV file.\n",
    "</details>\n"
   ]
  },
  {
   "cell_type": "markdown",
   "id": "ed57c227",
   "metadata": {},
   "source": [
    "<details>\n",
    "  <summary>Hint 2</summary>\n",
    "\n",
    "  Use `parse_dates` attribute to parse the dates in the CSV file.\n",
    "</details>\n"
   ]
  },
  {
   "cell_type": "markdown",
   "id": "1cd4772e",
   "metadata": {},
   "source": [
    "<details>\n",
    "  <summary>Solution</summary>\n",
    "  <div>\n",
    "\n",
    "  ```python\n",
    "  apple_df = pd.read_csv('apple.csv', parse_dates=['Date'])\n",
    "  google_df = pd.read_csv('google.csv', parse_dates=['Date'])\n",
    "  ```\n",
    "\n",
    "  </div>\n",
    "</details>"
   ]
  },
  {
   "cell_type": "markdown",
   "id": "9db8fe39",
   "metadata": {},
   "source": [
    "#### 2. Reading specific columns"
   ]
  },
  {
   "cell_type": "code",
   "execution_count": null,
   "id": "93e3f1c3",
   "metadata": {},
   "outputs": [],
   "source": [
    "# read `Date` and `Close` columns from Google stock data\n",
    "google_column_df ="
   ]
  },
  {
   "cell_type": "markdown",
   "id": "0cb7bfb5",
   "metadata": {},
   "source": [
    "<details>\n",
    "  <summary>Hint</summary>\n",
    "\n",
    "  Use the `usecols` parameter of the `read_csv()` function to specify which columns to read in.\n",
    "</details>"
   ]
  },
  {
   "cell_type": "markdown",
   "id": "2c2164db",
   "metadata": {},
   "source": [
    "<details>\n",
    "  <summary>Solution</summary>\n",
    "\n",
    "  ```python\n",
    "  google_column_df = pd.read_csv('google.csv', parse_dates=['Date'], usecols=['Date', 'Close'])\n",
    "  ```\n",
    "</details>\n"
   ]
  },
  {
   "cell_type": "markdown",
   "id": "58e8de2e",
   "metadata": {},
   "source": [
    "#### 3. Read specific rows"
   ]
  },
  {
   "cell_type": "code",
   "execution_count": null,
   "id": "680d3713",
   "metadata": {},
   "outputs": [],
   "source": [
    "# read the December 2023 Apple stock data\n",
    "apple_row_df ="
   ]
  },
  {
   "cell_type": "markdown",
   "id": "44190d27",
   "metadata": {},
   "source": [
    "<details>\n",
    "  <summary>Hint</summary>\n",
    "\n",
    "  Use boolean indexing to filter the rows.\n",
    "</details>"
   ]
  },
  {
   "cell_type": "markdown",
   "id": "19360ffe",
   "metadata": {},
   "source": [
    "<details>\n",
    "  <summary>Solution</summary>\n",
    "\n",
    "  ```python\n",
    "  # Read in the CSV file\n",
    "  apple_row_df = pd.read_csv('apple.csv', parse_dates=['Date'])\n",
    "  ```\n",
    "\n",
    "  ```python\n",
    "  # Filter the rows for the month of December 2023\n",
    "  apple_row_df = apple_row_df[apple_row_df['Date'].dt.month == 12]\n",
    "  apple_row_df = apple_row_df[apple_row_df['Date'].dt.year == 2023]\n",
    "  ```\n",
    "\n",
    "  ```python\n",
    "  # Combine the conditions\n",
    "  apple_row_df = apple_row_df[(apple_row_df['Date'].dt.month == 12) & (apple_row_df['Date'].dt.year == 2023)]\n",
    "  ```\n",
    "</details>"
   ]
  },
  {
   "cell_type": "markdown",
   "id": "1a99d41d",
   "metadata": {},
   "source": [
    "#### 4. What is the shape for stocks data"
   ]
  },
  {
   "cell_type": "code",
   "execution_count": null,
   "id": "8a3a6649",
   "metadata": {},
   "outputs": [],
   "source": [
    "# Check the shape of both Apple and Google stock data\n",
    "print()"
   ]
  },
  {
   "cell_type": "markdown",
   "id": "e022fe3d",
   "metadata": {},
   "source": [
    "<details>\n",
    "  <summary>Hint</summary>\n",
    "\n",
    "  Use `shape()` method to get the shape of the dataframe.\n",
    "</details>"
   ]
  },
  {
   "cell_type": "markdown",
   "id": "bbf89078",
   "metadata": {},
   "source": [
    "<details>\n",
    "  <summary>Solution</summary>\n",
    "\n",
    "  ```python\n",
    "  print(apple_df.shape)\n",
    "  print(google_df.shape)\n",
    "  ```\n",
    "</details>"
   ]
  },
  {
   "cell_type": "markdown",
   "id": "d37071b3",
   "metadata": {},
   "source": [
    "#### 5. What is the mean closing price of Apple for December 2023"
   ]
  },
  {
   "cell_type": "code",
   "execution_count": 9,
   "id": "4185318a",
   "metadata": {},
   "outputs": [
    {
     "name": "stdout",
     "output_type": "stream",
     "text": [
      "194.30850143432616\n"
     ]
    }
   ],
   "source": [
    "# Find the mean of `Close` column in apple stock data\n"
   ]
  },
  {
   "cell_type": "markdown",
   "id": "e2df3d85",
   "metadata": {},
   "source": [
    "<details>\n",
    "  <summary>Hint</summary>\n",
    "\n",
    "  Use the `mean()` method on the `Close` column of the `apple_row_df` dataframe.\n",
    "</details>"
   ]
  },
  {
   "cell_type": "markdown",
   "id": "21a711e2",
   "metadata": {},
   "source": [
    "<details>\n",
    "  <summary>Solution</summary>\n",
    "\n",
    "  ```python\n",
    "  apple_row_df['Close'].mean()\n",
    "  ```\n",
    "</details>"
   ]
  },
  {
   "cell_type": "markdown",
   "id": "1ab2a01b",
   "metadata": {},
   "source": [
    "#### 6. Find the maximum and minimum values"
   ]
  },
  {
   "cell_type": "code",
   "execution_count": null,
   "id": "260011f3",
   "metadata": {},
   "outputs": [],
   "source": [
    "# Find the maximum and minimum values of `Close` column in Apple and Google stock data\n"
   ]
  },
  {
   "cell_type": "markdown",
   "id": "b5036fb3",
   "metadata": {},
   "source": [
    "<details>\n",
    "  <summary>Hint</summary>\n",
    "\n",
    "  Use the `max()` and `min()` functions to find the maximum and minimum values respectively.\n",
    "</details>"
   ]
  },
  {
   "cell_type": "markdown",
   "id": "d066694b",
   "metadata": {},
   "source": [
    "<details>\n",
    "  <summary>Solution</summary>\n",
    "\n",
    "  ```python\n",
    "  # finding the maximum and minimum values of 'Close' column in the Apple data\n",
    "  apple_max_close = apple_df['Close'].max()\n",
    "  apple_min_close = apple_df['Close'].min()\n",
    "\n",
    "  # finding the maximum and minimum values of 'Close' column in the Google data\n",
    "  google_max_close = google_df['Close'].max()\n",
    "  google_min_close = google_df['Close'].min()\n",
    "  ```\n",
    "</details>"
   ]
  },
  {
   "cell_type": "markdown",
   "id": "d29d3932",
   "metadata": {},
   "source": [
    "#### 7. Find the average and median values"
   ]
  },
  {
   "cell_type": "code",
   "execution_count": null,
   "id": "61b6098a",
   "metadata": {},
   "outputs": [],
   "source": [
    "# Find the average and median of `Close` column in Google and Apple stock data\n"
   ]
  },
  {
   "cell_type": "markdown",
   "id": "d4d31d0f",
   "metadata": {},
   "source": [
    "<details>\n",
    "  <summary>Hint</summary>\n",
    "\n",
    "  Use the `mean()` function to find the average value and the `median()` function to find the median value.\n",
    "</details>"
   ]
  },
  {
   "cell_type": "markdown",
   "id": "461428f8",
   "metadata": {},
   "source": [
    "<details>\n",
    "  <summary>Solution</summary>\n",
    "\n",
    "  ```python\n",
    "  # finding the average and median values of 'Close' column in the Apple data\n",
    "  apple_mean_close = apple_df['Close'].mean()\n",
    "  apple_median_close = apple_df['Close'].median()\n",
    "\n",
    "  # finding the average and median values of 'Close' column in the Google data\n",
    "  google_mean_close = google_df['Close'].mean()\n",
    "  google_median_close = google_df['Close'].median()\n",
    "  ```\n",
    "</details>"
   ]
  },
  {
   "cell_type": "code",
   "execution_count": null,
   "id": "dbd3496c",
   "metadata": {},
   "outputs": [],
   "source": [
    "\n",
    "\n",
    "\n",
    "<details>\n",
    "  <summary>Hint</summary>\n",
    "\n",
    "  Use shape() method to get the shape of the dataframe.\n",
    "</details>\n",
    "\n",
    "\n",
    "\n",
    "<details>\n",
    "  <summary>Solution</summary>\n",
    "\n",
    "  ```python\n",
    "\n",
    "  ```\n",
    "</details>\n",
    "\n"
   ]
  }
 ],
 "metadata": {
  "kernelspec": {
   "display_name": "Python 3 (ipykernel)",
   "language": "python",
   "name": "python3"
  },
  "language_info": {
   "codemirror_mode": {
    "name": "ipython",
    "version": 3
   },
   "file_extension": ".py",
   "mimetype": "text/x-python",
   "name": "python",
   "nbconvert_exporter": "python",
   "pygments_lexer": "ipython3",
   "version": "3.12.0"
  }
 },
 "nbformat": 4,
 "nbformat_minor": 5
}
